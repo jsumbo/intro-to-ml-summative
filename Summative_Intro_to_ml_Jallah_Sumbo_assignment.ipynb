{
  "nbformat": 4,
  "nbformat_minor": 0,
  "metadata": {
    "colab": {
      "provenance": [],
      "include_colab_link": true
    },
    "kernelspec": {
      "name": "python3",
      "display_name": "Python 3"
    },
    "language_info": {
      "name": "python"
    }
  },
  "cells": [
    {
      "cell_type": "markdown",
      "metadata": {
        "id": "view-in-github",
        "colab_type": "text"
      },
      "source": [
        "<a href=\"https://colab.research.google.com/github/jsumbo/intro-to-ml-summative/blob/main/Summative_Intro_to_ml_Jallah_Sumbo_assignment.ipynb\" target=\"_parent\"><img src=\"https://colab.research.google.com/assets/colab-badge.svg\" alt=\"Open In Colab\"/></a>"
      ]
    },
    {
      "cell_type": "markdown",
      "source": [
        "# Optimization Techniques in Machine Learning\n",
        "\n",
        "Objective: This assignment aims to explore implementation or Machine Learning Models with regularization, optimization and Error analysis  techniques used in machine learning to improve models' performance, convergence speed, and efficiency.\n",
        "\n",
        "A Notebook detailing the following\n",
        "\n",
        "* Project name\n",
        "* Clear out puts from cells\n",
        "\n",
        "**Instructions**\n",
        "1. Acquire a dataset suitable for ML tasks as per your proposal.\n",
        "2. Implement a simple machine learning model based on neural networks on the chosen dataset without any defined optimization techniques. (Check instructions)\n",
        "3. Implement and compare the model's performance after applying 3 to 4 disntict combinations regularization and optimization techniques.\n",
        "4. Discuss the results on the README file.\n",
        "5. Make predictions using test data\n",
        "7. Implement error analysis techniques and ensure there is: F1-Score, Recall, Precision, RUC a confusion matrix using plotting libraries (not verbose)\n",
        "\n",
        "Submit notebook to github repo\n",
        "\n",
        "\n",
        "---\n",
        "\n",
        "\n"
      ],
      "metadata": {
        "id": "ujuLMxSvoXbg"
      }
    },
    {
      "cell_type": "markdown",
      "source": [
        "# Libraries"
      ],
      "metadata": {
        "id": "5Lq2KwfiNVxi"
      }
    },
    {
      "cell_type": "code",
      "source": [
        "#Import Necessary Libraries\n",
        "import pandas as pd\n",
        "import numpy as np\n",
        "import matplotlib.pyplot as plt\n",
        "import seaborn as sns\n",
        "from sklearn.model_selection import train_test_split\n",
        "from sklearn.preprocessing import StandardScaler, LabelEncoder\n",
        "from sklearn.linear_model import LogisticRegression\n",
        "from sklearn.svm import SVC\n",
        "from sklearn.metrics import accuracy_score, f1_score, precision_score, recall_score, roc_auc_score\n",
        "from tensorflow.keras.models import Sequential\n",
        "from tensorflow.keras.layers import Dense, Dropout\n",
        "from tensorflow.keras.optimizers import Adam, RMSprop\n",
        "from tensorflow.keras.regularizers import l1, l2\n",
        "from tensorflow.keras.callbacks import EarlyStopping\n",
        "from xgboost import XGBClassifier"
      ],
      "metadata": {
        "id": "wGCnpzs9M4Fd"
      },
      "execution_count": null,
      "outputs": []
    },
    {
      "cell_type": "markdown",
      "source": [
        "# The Dataset\n",
        "> ***Brief Description:***\n",
        "State the Problem and A short Description of the data\n",
        "\n",
        "---\n",
        "\n",
        "For this project, I'll use the Adult Income Dataset (also known as the \"Census Income\" dataset). This dataset contains information about individuals' income levels based on various features such as age, education, occupation, and more. The goal is to predict whether an individual's income exceeds $50,000 per year. The dataset can be found in the UCI Machine Learning Repository: [Adult Income Dataset](https://archive.ics.uci.edu/ml/machine-learning-databases/adult/adult.data)."
      ],
      "metadata": {
        "id": "M1FN7bFeIxfH"
      }
    },
    {
      "cell_type": "code",
      "source": [
        "# Load dataset\n",
        "url = \"https://archive.ics.uci.edu/ml/machine-learning-databases/adult/adult.data\"\n",
        "columns = [\"age\", \"workclass\", \"fnlwgt\", \"education\", \"education-num\", \"marital-status\", \"occupation\", \"relationship\", \"race\", \"sex\", \"capital-gain\", \"capital-loss\", \"hours-per-week\", \"native-country\", \"income\"]\n",
        "data = pd.read_csv(url, names=columns, sep=',\\s', na_values=[\"?\"], engine='python')\n",
        "\n",
        "# Drop rows with missing values\n",
        "data.dropna(inplace=True)\n",
        "\n",
        "# Encode categorical variables\n",
        "label_encoders = {}\n",
        "for column in data.select_dtypes(include=['object']).columns:\n",
        "    le = LabelEncoder()\n",
        "    data[column] = le.fit_transform(data[column])\n",
        "    label_encoders[column] = le\n",
        "\n",
        "# Split data\n",
        "X = data.drop('income', axis=1)\n",
        "y = data['income']\n",
        "\n",
        "X_train, X_test, y_train, y_test = train_test_split(X, y, test_size=0.2, random_state=42)\n",
        "X_train, X_val, y_train, y_val = train_test_split(X_train, y_train, test_size=0.25, random_state=42)\n",
        "\n",
        "# Standardize features\n",
        "scaler = StandardScaler()\n",
        "X_train = scaler.fit_transform(X_train)\n",
        "X_val = scaler.transform(X_val)\n",
        "X_test = scaler.transform(X_test)"
      ],
      "metadata": {
        "id": "nas-T7xwPIso"
      },
      "execution_count": null,
      "outputs": []
    },
    {
      "cell_type": "markdown",
      "source": [
        "# Simple Neural Network Model (No Optimization Techniques)"
      ],
      "metadata": {
        "id": "SkxnULN3Lv6P"
      }
    },
    {
      "cell_type": "code",
      "source": [
        "# Define a simple neural network model without optimization techniques\n",
        "def simple_model():\n",
        "    model = Sequential()\n",
        "    model.add(Dense(64, activation='relu', input_shape=(X_train.shape[1],)))\n",
        "    model.add(Dense(32, activation='relu'))\n",
        "    model.add(Dense(1, activation='sigmoid'))\n",
        "    model.compile(optimizer='adam', loss='binary_crossentropy', metrics=['accuracy'])\n",
        "    return model\n",
        "\n",
        "# Train the simple model\n",
        "simple_model = simple_model()\n",
        "simple_history = simple_model.fit(X_train, y_train, epochs=10, validation_data=(X_val, y_val))\n",
        "\n",
        "# Evaluate the simple model\n",
        "simple_loss, simple_accuracy = simple_model.evaluate(X_test, y_test)\n",
        "print(f\"Simple Model Test Accuracy: {simple_accuracy}\")"
      ],
      "metadata": {
        "colab": {
          "base_uri": "https://localhost:8080/"
        },
        "id": "R8pdbQVhLzb_",
        "outputId": "332fd71f-5d94-409b-e9b2-b2b8fe859207"
      },
      "execution_count": null,
      "outputs": [
        {
          "output_type": "stream",
          "name": "stderr",
          "text": [
            "/usr/local/lib/python3.11/dist-packages/keras/src/layers/core/dense.py:87: UserWarning: Do not pass an `input_shape`/`input_dim` argument to a layer. When using Sequential models, prefer using an `Input(shape)` object as the first layer in the model instead.\n",
            "  super().__init__(activity_regularizer=activity_regularizer, **kwargs)\n"
          ]
        },
        {
          "output_type": "stream",
          "name": "stdout",
          "text": [
            "Epoch 1/10\n",
            "\u001b[1m566/566\u001b[0m \u001b[32m━━━━━━━━━━━━━━━━━━━━\u001b[0m\u001b[37m\u001b[0m \u001b[1m5s\u001b[0m 4ms/step - accuracy: 0.7784 - loss: 0.4489 - val_accuracy: 0.8392 - val_loss: 0.3421\n",
            "Epoch 2/10\n",
            "\u001b[1m566/566\u001b[0m \u001b[32m━━━━━━━━━━━━━━━━━━━━\u001b[0m\u001b[37m\u001b[0m \u001b[1m4s\u001b[0m 3ms/step - accuracy: 0.8387 - loss: 0.3412 - val_accuracy: 0.8402 - val_loss: 0.3346\n",
            "Epoch 3/10\n",
            "\u001b[1m566/566\u001b[0m \u001b[32m━━━━━━━━━━━━━━━━━━━━\u001b[0m\u001b[37m\u001b[0m \u001b[1m2s\u001b[0m 4ms/step - accuracy: 0.8432 - loss: 0.3287 - val_accuracy: 0.8432 - val_loss: 0.3329\n",
            "Epoch 4/10\n",
            "\u001b[1m566/566\u001b[0m \u001b[32m━━━━━━━━━━━━━━━━━━━━\u001b[0m\u001b[37m\u001b[0m \u001b[1m3s\u001b[0m 4ms/step - accuracy: 0.8465 - loss: 0.3220 - val_accuracy: 0.8450 - val_loss: 0.3322\n",
            "Epoch 5/10\n",
            "\u001b[1m566/566\u001b[0m \u001b[32m━━━━━━━━━━━━━━━━━━━━\u001b[0m\u001b[37m\u001b[0m \u001b[1m3s\u001b[0m 4ms/step - accuracy: 0.8432 - loss: 0.3303 - val_accuracy: 0.8468 - val_loss: 0.3342\n",
            "Epoch 6/10\n",
            "\u001b[1m566/566\u001b[0m \u001b[32m━━━━━━━━━━━━━━━━━━━━\u001b[0m\u001b[37m\u001b[0m \u001b[1m2s\u001b[0m 3ms/step - accuracy: 0.8458 - loss: 0.3300 - val_accuracy: 0.8445 - val_loss: 0.3344\n",
            "Epoch 7/10\n",
            "\u001b[1m566/566\u001b[0m \u001b[32m━━━━━━━━━━━━━━━━━━━━\u001b[0m\u001b[37m\u001b[0m \u001b[1m3s\u001b[0m 3ms/step - accuracy: 0.8497 - loss: 0.3180 - val_accuracy: 0.8449 - val_loss: 0.3327\n",
            "Epoch 8/10\n",
            "\u001b[1m566/566\u001b[0m \u001b[32m━━━━━━━━━━━━━━━━━━━━\u001b[0m\u001b[37m\u001b[0m \u001b[1m2s\u001b[0m 3ms/step - accuracy: 0.8483 - loss: 0.3180 - val_accuracy: 0.8460 - val_loss: 0.3282\n",
            "Epoch 9/10\n",
            "\u001b[1m566/566\u001b[0m \u001b[32m━━━━━━━━━━━━━━━━━━━━\u001b[0m\u001b[37m\u001b[0m \u001b[1m3s\u001b[0m 3ms/step - accuracy: 0.8532 - loss: 0.3152 - val_accuracy: 0.8490 - val_loss: 0.3273\n",
            "Epoch 10/10\n",
            "\u001b[1m566/566\u001b[0m \u001b[32m━━━━━━━━━━━━━━━━━━━━\u001b[0m\u001b[37m\u001b[0m \u001b[1m3s\u001b[0m 5ms/step - accuracy: 0.8477 - loss: 0.3176 - val_accuracy: 0.8490 - val_loss: 0.3290\n",
            "\u001b[1m189/189\u001b[0m \u001b[32m━━━━━━━━━━━━━━━━━━━━\u001b[0m\u001b[37m\u001b[0m \u001b[1m0s\u001b[0m 2ms/step - accuracy: 0.8446 - loss: 0.3342\n",
            "Simple Model Test Accuracy: 0.8458478450775146\n"
          ]
        }
      ]
    },
    {
      "cell_type": "markdown",
      "source": [
        "# Neural Network Models with Optimization Techniques"
      ],
      "metadata": {
        "id": "eCeuYfiAN1Fo"
      }
    },
    {
      "cell_type": "code",
      "source": [
        "# Define a function to create models with optimization techniques\n",
        "def define_model(optimizer, regularization, early_stopping, dropout, learning_rate, layers):\n",
        "    model = Sequential()\n",
        "    for units in layers:\n",
        "        model.add(Dense(units, activation='relu', kernel_regularizer=regularization))\n",
        "        if dropout:\n",
        "            model.add(Dropout(dropout))\n",
        "    model.add(Dense(1, activation='sigmoid'))\n",
        "    model.compile(optimizer=optimizer(learning_rate=learning_rate), loss='binary_crossentropy', metrics=['accuracy'])\n",
        "    return model\n",
        "\n",
        "# Model 1: Adam optimizer, L2 regularization, Early stopping\n",
        "model_1 = define_model(Adam, l2(0.01), True, 0.2, 0.001, [64, 32])\n",
        "early_stopping = EarlyStopping(monitor='val_loss', patience=3)\n",
        "history_1 = model_1.fit(X_train, y_train, epochs=10, validation_data=(X_val, y_val), callbacks=[early_stopping])\n",
        "\n",
        "# Model 2: RMSprop optimizer, L1 regularization, No Early stopping\n",
        "model_2 = define_model(RMSprop, l1(0.01), False, 0.2, 0.001, [64, 32])\n",
        "history_2 = model_2.fit(X_train, y_train, epochs=10, validation_data=(X_val, y_val))\n",
        "\n",
        "# Model 3: Custom combination\n",
        "model_3 = define_model(Adam, l1(0.01), True, 0.3, 0.01, [128, 64, 32])\n",
        "early_stopping = EarlyStopping(monitor='val_loss', patience=3)\n",
        "history_3 = model_3.fit(X_train, y_train, epochs=10, validation_data=(X_val, y_val), callbacks=[early_stopping])\n",
        "\n",
        "# Model 4: Another custom combination\n",
        "model_4 = define_model(RMSprop, l2(0.01), True, 0.2, 0.001, [256, 128, 64])\n",
        "early_stopping = EarlyStopping(monitor='val_loss', patience=3)\n",
        "history_4 = model_4.fit(X_train, y_train, epochs=10, validation_data=(X_val, y_val), callbacks=[early_stopping])"
      ],
      "metadata": {
        "colab": {
          "base_uri": "https://localhost:8080/"
        },
        "id": "DhLy-rPaN32N",
        "outputId": "90d8ebdf-48e7-4496-e272-d1f0a14546b3"
      },
      "execution_count": null,
      "outputs": [
        {
          "output_type": "stream",
          "name": "stdout",
          "text": [
            "Epoch 1/10\n",
            "\u001b[1m566/566\u001b[0m \u001b[32m━━━━━━━━━━━━━━━━━━━━\u001b[0m\u001b[37m\u001b[0m \u001b[1m15s\u001b[0m 13ms/step - accuracy: 0.7836 - loss: 0.8478 - val_accuracy: 0.8351 - val_loss: 0.4419\n",
            "Epoch 2/10\n",
            "\u001b[1m566/566\u001b[0m \u001b[32m━━━━━━━━━━━━━━━━━━━━\u001b[0m\u001b[37m\u001b[0m \u001b[1m5s\u001b[0m 8ms/step - accuracy: 0.8273 - loss: 0.4342 - val_accuracy: 0.8329 - val_loss: 0.4002\n",
            "Epoch 3/10\n",
            "\u001b[1m566/566\u001b[0m \u001b[32m━━━━━━━━━━━━━━━━━━━━\u001b[0m\u001b[37m\u001b[0m \u001b[1m4s\u001b[0m 7ms/step - accuracy: 0.8332 - loss: 0.3989 - val_accuracy: 0.8405 - val_loss: 0.3928\n",
            "Epoch 4/10\n",
            "\u001b[1m566/566\u001b[0m \u001b[32m━━━━━━━━━━━━━━━━━━━━\u001b[0m\u001b[37m\u001b[0m \u001b[1m4s\u001b[0m 5ms/step - accuracy: 0.8336 - loss: 0.3913 - val_accuracy: 0.8306 - val_loss: 0.3886\n",
            "Epoch 5/10\n",
            "\u001b[1m566/566\u001b[0m \u001b[32m━━━━━━━━━━━━━━━━━━━━\u001b[0m\u001b[37m\u001b[0m \u001b[1m3s\u001b[0m 6ms/step - accuracy: 0.8381 - loss: 0.3884 - val_accuracy: 0.8386 - val_loss: 0.3751\n",
            "Epoch 6/10\n",
            "\u001b[1m566/566\u001b[0m \u001b[32m━━━━━━━━━━━━━━━━━━━━\u001b[0m\u001b[37m\u001b[0m \u001b[1m4s\u001b[0m 7ms/step - accuracy: 0.8374 - loss: 0.3760 - val_accuracy: 0.8434 - val_loss: 0.3707\n",
            "Epoch 7/10\n",
            "\u001b[1m566/566\u001b[0m \u001b[32m━━━━━━━━━━━━━━━━━━━━\u001b[0m\u001b[37m\u001b[0m \u001b[1m3s\u001b[0m 5ms/step - accuracy: 0.8363 - loss: 0.3803 - val_accuracy: 0.8430 - val_loss: 0.3755\n",
            "Epoch 8/10\n",
            "\u001b[1m566/566\u001b[0m \u001b[32m━━━━━━━━━━━━━━━━━━━━\u001b[0m\u001b[37m\u001b[0m \u001b[1m5s\u001b[0m 5ms/step - accuracy: 0.8348 - loss: 0.3750 - val_accuracy: 0.8429 - val_loss: 0.3690\n",
            "Epoch 9/10\n",
            "\u001b[1m566/566\u001b[0m \u001b[32m━━━━━━━━━━━━━━━━━━━━\u001b[0m\u001b[37m\u001b[0m \u001b[1m5s\u001b[0m 8ms/step - accuracy: 0.8321 - loss: 0.3802 - val_accuracy: 0.8410 - val_loss: 0.3667\n",
            "Epoch 10/10\n",
            "\u001b[1m566/566\u001b[0m \u001b[32m━━━━━━━━━━━━━━━━━━━━\u001b[0m\u001b[37m\u001b[0m \u001b[1m2s\u001b[0m 3ms/step - accuracy: 0.8371 - loss: 0.3784 - val_accuracy: 0.8409 - val_loss: 0.3712\n",
            "Epoch 1/10\n",
            "\u001b[1m566/566\u001b[0m \u001b[32m━━━━━━━━━━━━━━━━━━━━\u001b[0m\u001b[37m\u001b[0m \u001b[1m6s\u001b[0m 6ms/step - accuracy: 0.7350 - loss: 2.2095 - val_accuracy: 0.7890 - val_loss: 0.5356\n",
            "Epoch 2/10\n",
            "\u001b[1m566/566\u001b[0m \u001b[32m━━━━━━━━━━━━━━━━━━━━\u001b[0m\u001b[37m\u001b[0m \u001b[1m4s\u001b[0m 6ms/step - accuracy: 0.7895 - loss: 0.5371 - val_accuracy: 0.8240 - val_loss: 0.4933\n",
            "Epoch 3/10\n",
            "\u001b[1m566/566\u001b[0m \u001b[32m━━━━━━━━━━━━━━━━━━━━\u001b[0m\u001b[37m\u001b[0m \u001b[1m4s\u001b[0m 5ms/step - accuracy: 0.8089 - loss: 0.5126 - val_accuracy: 0.8226 - val_loss: 0.4801\n",
            "Epoch 4/10\n",
            "\u001b[1m566/566\u001b[0m \u001b[32m━━━━━━━━━━━━━━━━━━━━\u001b[0m\u001b[37m\u001b[0m \u001b[1m3s\u001b[0m 5ms/step - accuracy: 0.8065 - loss: 0.5081 - val_accuracy: 0.8258 - val_loss: 0.4710\n",
            "Epoch 5/10\n",
            "\u001b[1m566/566\u001b[0m \u001b[32m━━━━━━━━━━━━━━━━━━━━\u001b[0m\u001b[37m\u001b[0m \u001b[1m3s\u001b[0m 5ms/step - accuracy: 0.8111 - loss: 0.4997 - val_accuracy: 0.8256 - val_loss: 0.4658\n",
            "Epoch 6/10\n",
            "\u001b[1m566/566\u001b[0m \u001b[32m━━━━━━━━━━━━━━━━━━━━\u001b[0m\u001b[37m\u001b[0m \u001b[1m4s\u001b[0m 7ms/step - accuracy: 0.8106 - loss: 0.4999 - val_accuracy: 0.8246 - val_loss: 0.4634\n",
            "Epoch 7/10\n",
            "\u001b[1m566/566\u001b[0m \u001b[32m━━━━━━━━━━━━━━━━━━━━\u001b[0m\u001b[37m\u001b[0m \u001b[1m4s\u001b[0m 4ms/step - accuracy: 0.8108 - loss: 0.4948 - val_accuracy: 0.8293 - val_loss: 0.4585\n",
            "Epoch 8/10\n",
            "\u001b[1m566/566\u001b[0m \u001b[32m━━━━━━━━━━━━━━━━━━━━\u001b[0m\u001b[37m\u001b[0m \u001b[1m2s\u001b[0m 4ms/step - accuracy: 0.8112 - loss: 0.4924 - val_accuracy: 0.8328 - val_loss: 0.4550\n",
            "Epoch 9/10\n",
            "\u001b[1m566/566\u001b[0m \u001b[32m━━━━━━━━━━━━━━━━━━━━\u001b[0m\u001b[37m\u001b[0m \u001b[1m2s\u001b[0m 3ms/step - accuracy: 0.8101 - loss: 0.4860 - val_accuracy: 0.8142 - val_loss: 0.4589\n",
            "Epoch 10/10\n",
            "\u001b[1m566/566\u001b[0m \u001b[32m━━━━━━━━━━━━━━━━━━━━\u001b[0m\u001b[37m\u001b[0m \u001b[1m3s\u001b[0m 3ms/step - accuracy: 0.8076 - loss: 0.4827 - val_accuracy: 0.8215 - val_loss: 0.4539\n",
            "Epoch 1/10\n",
            "\u001b[1m566/566\u001b[0m \u001b[32m━━━━━━━━━━━━━━━━━━━━\u001b[0m\u001b[37m\u001b[0m \u001b[1m6s\u001b[0m 7ms/step - accuracy: 0.7544 - loss: 1.6481 - val_accuracy: 0.7507 - val_loss: 0.6622\n",
            "Epoch 2/10\n",
            "\u001b[1m566/566\u001b[0m \u001b[32m━━━━━━━━━━━━━━━━━━━━\u001b[0m\u001b[37m\u001b[0m \u001b[1m6s\u001b[0m 8ms/step - accuracy: 0.7541 - loss: 0.6968 - val_accuracy: 0.7507 - val_loss: 0.6755\n",
            "Epoch 3/10\n",
            "\u001b[1m566/566\u001b[0m \u001b[32m━━━━━━━━━━━━━━━━━━━━\u001b[0m\u001b[37m\u001b[0m \u001b[1m5s\u001b[0m 9ms/step - accuracy: 0.7567 - loss: 0.6959 - val_accuracy: 0.7507 - val_loss: 0.6647\n",
            "Epoch 4/10\n",
            "\u001b[1m566/566\u001b[0m \u001b[32m━━━━━━━━━━━━━━━━━━━━\u001b[0m\u001b[37m\u001b[0m \u001b[1m8s\u001b[0m 4ms/step - accuracy: 0.7504 - loss: 0.6954 - val_accuracy: 0.7507 - val_loss: 0.6641\n",
            "Epoch 1/10\n",
            "\u001b[1m566/566\u001b[0m \u001b[32m━━━━━━━━━━━━━━━━━━━━\u001b[0m\u001b[37m\u001b[0m \u001b[1m5s\u001b[0m 5ms/step - accuracy: 0.8000 - loss: 1.2747 - val_accuracy: 0.8286 - val_loss: 0.4317\n",
            "Epoch 2/10\n",
            "\u001b[1m566/566\u001b[0m \u001b[32m━━━━━━━━━━━━━━━━━━━━\u001b[0m\u001b[37m\u001b[0m \u001b[1m3s\u001b[0m 5ms/step - accuracy: 0.8292 - loss: 0.4234 - val_accuracy: 0.8376 - val_loss: 0.4088\n",
            "Epoch 3/10\n",
            "\u001b[1m566/566\u001b[0m \u001b[32m━━━━━━━━━━━━━━━━━━━━\u001b[0m\u001b[37m\u001b[0m \u001b[1m3s\u001b[0m 5ms/step - accuracy: 0.8313 - loss: 0.4081 - val_accuracy: 0.8415 - val_loss: 0.3980\n",
            "Epoch 4/10\n",
            "\u001b[1m566/566\u001b[0m \u001b[32m━━━━━━━━━━━━━━━━━━━━\u001b[0m\u001b[37m\u001b[0m \u001b[1m3s\u001b[0m 5ms/step - accuracy: 0.8322 - loss: 0.4054 - val_accuracy: 0.8405 - val_loss: 0.3903\n",
            "Epoch 5/10\n",
            "\u001b[1m566/566\u001b[0m \u001b[32m━━━━━━━━━━━━━━━━━━━━\u001b[0m\u001b[37m\u001b[0m \u001b[1m5s\u001b[0m 5ms/step - accuracy: 0.8340 - loss: 0.3971 - val_accuracy: 0.8409 - val_loss: 0.3865\n",
            "Epoch 6/10\n",
            "\u001b[1m566/566\u001b[0m \u001b[32m━━━━━━━━━━━━━━━━━━━━\u001b[0m\u001b[37m\u001b[0m \u001b[1m5s\u001b[0m 4ms/step - accuracy: 0.8320 - loss: 0.4005 - val_accuracy: 0.8404 - val_loss: 0.3825\n",
            "Epoch 7/10\n",
            "\u001b[1m566/566\u001b[0m \u001b[32m━━━━━━━━━━━━━━━━━━━━\u001b[0m\u001b[37m\u001b[0m \u001b[1m3s\u001b[0m 5ms/step - accuracy: 0.8334 - loss: 0.3931 - val_accuracy: 0.8394 - val_loss: 0.3856\n",
            "Epoch 8/10\n",
            "\u001b[1m566/566\u001b[0m \u001b[32m━━━━━━━━━━━━━━━━━━━━\u001b[0m\u001b[37m\u001b[0m \u001b[1m5s\u001b[0m 5ms/step - accuracy: 0.8372 - loss: 0.3907 - val_accuracy: 0.8362 - val_loss: 0.3841\n",
            "Epoch 9/10\n",
            "\u001b[1m566/566\u001b[0m \u001b[32m━━━━━━━━━━━━━━━━━━━━\u001b[0m\u001b[37m\u001b[0m \u001b[1m5s\u001b[0m 4ms/step - accuracy: 0.8323 - loss: 0.3886 - val_accuracy: 0.8389 - val_loss: 0.3810\n",
            "Epoch 10/10\n",
            "\u001b[1m566/566\u001b[0m \u001b[32m━━━━━━━━━━━━━━━━━━━━\u001b[0m\u001b[37m\u001b[0m \u001b[1m3s\u001b[0m 6ms/step - accuracy: 0.8381 - loss: 0.3899 - val_accuracy: 0.8407 - val_loss: 0.3831\n"
          ]
        }
      ]
    },
    {
      "cell_type": "markdown",
      "source": [
        "# Evaluate and Compare Models"
      ],
      "metadata": {
        "id": "8Z93yBA9N8VL"
      }
    },
    {
      "cell_type": "code",
      "source": [
        "# Evaluate each model on the test set\n",
        "models = [simple_model, model_1, model_2, model_3, model_4]\n",
        "histories = [simple_history, history_1, history_2, history_3, history_4]\n",
        "model_names = ['Simple Model', 'Model 1', 'Model 2', 'Model 3', 'Model 4']\n",
        "\n",
        "results = []\n",
        "for model, history, name in zip(models, histories, model_names):\n",
        "    loss, accuracy = model.evaluate(X_test, y_test)\n",
        "    y_pred = model.predict(X_test)\n",
        "    y_pred = (y_pred > 0.5).astype(int)\n",
        "    f1 = f1_score(y_test, y_pred)\n",
        "    recall = recall_score(y_test, y_pred)\n",
        "    precision = precision_score(y_test, y_pred)\n",
        "    roc_auc = roc_auc_score(y_test, y_pred)\n",
        "    results.append((name, accuracy, f1, recall, precision, roc_auc))\n",
        "\n",
        "# Print results\n",
        "for result in results:\n",
        "    print(f\"Model: {result[0]}\")\n",
        "    print(f\"Accuracy: {result[1]}\")\n",
        "    print(f\"F1 Score: {result[2]}\")\n",
        "    print(f\"Recall: {result[3]}\")\n",
        "    print(f\"Precision: {result[4]}\")\n",
        "    print(f\"ROC AUC: {result[5]}\")\n",
        "    print()"
      ],
      "metadata": {
        "colab": {
          "base_uri": "https://localhost:8080/"
        },
        "id": "-JriUFmsN_4Y",
        "outputId": "5457e0a5-f18d-406b-d1dc-2bad9e7eea95"
      },
      "execution_count": null,
      "outputs": [
        {
          "output_type": "stream",
          "name": "stdout",
          "text": [
            "\u001b[1m189/189\u001b[0m \u001b[32m━━━━━━━━━━━━━━━━━━━━\u001b[0m\u001b[37m\u001b[0m \u001b[1m1s\u001b[0m 3ms/step - accuracy: 0.8446 - loss: 0.3342\n",
            "\u001b[1m189/189\u001b[0m \u001b[32m━━━━━━━━━━━━━━━━━━━━\u001b[0m\u001b[37m\u001b[0m \u001b[1m1s\u001b[0m 4ms/step\n",
            "\u001b[1m189/189\u001b[0m \u001b[32m━━━━━━━━━━━━━━━━━━━━\u001b[0m\u001b[37m\u001b[0m \u001b[1m0s\u001b[0m 2ms/step - accuracy: 0.8374 - loss: 0.3858\n",
            "\u001b[1m189/189\u001b[0m \u001b[32m━━━━━━━━━━━━━━━━━━━━\u001b[0m\u001b[37m\u001b[0m \u001b[1m0s\u001b[0m 2ms/step\n",
            "\u001b[1m189/189\u001b[0m \u001b[32m━━━━━━━━━━━━━━━━━━━━\u001b[0m\u001b[37m\u001b[0m \u001b[1m1s\u001b[0m 3ms/step - accuracy: 0.8116 - loss: 0.4670\n",
            "\u001b[1m189/189\u001b[0m \u001b[32m━━━━━━━━━━━━━━━━━━━━\u001b[0m\u001b[37m\u001b[0m \u001b[1m0s\u001b[0m 2ms/step\n",
            "\u001b[1m189/189\u001b[0m \u001b[32m━━━━━━━━━━━━━━━━━━━━\u001b[0m\u001b[37m\u001b[0m \u001b[1m0s\u001b[0m 2ms/step - accuracy: 0.7437 - loss: 0.6699\n",
            "\u001b[1m189/189\u001b[0m \u001b[32m━━━━━━━━━━━━━━━━━━━━\u001b[0m\u001b[37m\u001b[0m \u001b[1m0s\u001b[0m 2ms/step\n",
            "\u001b[1m 56/189\u001b[0m \u001b[32m━━━━━\u001b[0m\u001b[37m━━━━━━━━━━━━━━━\u001b[0m \u001b[1m0s\u001b[0m 2ms/step - accuracy: 0.8404 - loss: 0.3914"
          ]
        },
        {
          "output_type": "stream",
          "name": "stderr",
          "text": [
            "/usr/local/lib/python3.11/dist-packages/sklearn/metrics/_classification.py:1565: UndefinedMetricWarning: Precision is ill-defined and being set to 0.0 due to no predicted samples. Use `zero_division` parameter to control this behavior.\n",
            "  _warn_prf(average, modifier, f\"{metric.capitalize()} is\", len(result))\n"
          ]
        },
        {
          "output_type": "stream",
          "name": "stdout",
          "text": [
            "\u001b[1m189/189\u001b[0m \u001b[32m━━━━━━━━━━━━━━━━━━━━\u001b[0m\u001b[37m\u001b[0m \u001b[1m0s\u001b[0m 2ms/step - accuracy: 0.8420 - loss: 0.3842\n",
            "\u001b[1m189/189\u001b[0m \u001b[32m━━━━━━━━━━━━━━━━━━━━\u001b[0m\u001b[37m\u001b[0m \u001b[1m0s\u001b[0m 2ms/step\n",
            "Model: Simple Model\n",
            "Accuracy: 0.8458478450775146\n",
            "F1 Score: 0.6757322175732218\n",
            "Recall: 0.6333333333333333\n",
            "Precision: 0.7242152466367713\n",
            "ROC AUC: 0.7756939817899179\n",
            "\n",
            "Model: Model 1\n",
            "Accuracy: 0.8402121663093567\n",
            "F1 Score: 0.6090835360908353\n",
            "Recall: 0.49084967320261436\n",
            "Precision: 0.8023504273504274\n",
            "ROC AUC: 0.7248829756197394\n",
            "\n",
            "Model: Model 2\n",
            "Accuracy: 0.8206530809402466\n",
            "F1 Score: 0.49953746530989823\n",
            "Recall: 0.35294117647058826\n",
            "Precision: 0.8544303797468354\n",
            "ROC AUC: 0.6662551762877036\n",
            "\n",
            "Model: Model 3\n",
            "Accuracy: 0.7463948130607605\n",
            "F1 Score: 0.0\n",
            "Recall: 0.0\n",
            "Precision: 0.0\n",
            "ROC AUC: 0.5\n",
            "\n",
            "Model: Model 4\n",
            "Accuracy: 0.8422012329101562\n",
            "F1 Score: 0.6757493188010899\n",
            "Recall: 0.6483660130718955\n",
            "Precision: 0.705547652916074\n",
            "ROC AUC: 0.7782136527717904\n",
            "\n"
          ]
        }
      ]
    },
    {
      "cell_type": "markdown",
      "source": [
        "# Error Analysis"
      ],
      "metadata": {
        "id": "Sl51UkPEP15Q"
      }
    },
    {
      "cell_type": "code",
      "source": [
        "# Plot confusion matrix for the best model\n",
        "best_model = model_4\n",
        "y_pred = best_model.predict(X_test)\n",
        "y_pred = (y_pred > 0.5).astype(int)\n",
        "cm = confusion_matrix(y_test, y_pred)\n",
        "\n",
        "plt.figure(figsize=(8, 6))\n",
        "sns.heatmap(cm, annot=True, fmt='d', cmap='Blues')\n",
        "plt.xlabel('Predicted')\n",
        "plt.ylabel('Actual')\n",
        "plt.title('Confusion Matrix')\n",
        "plt.show()"
      ],
      "metadata": {
        "colab": {
          "base_uri": "https://localhost:8080/",
          "height": 581
        },
        "id": "gPrqcTgiP3jK",
        "outputId": "a8497857-dd6e-4312-c946-0547acc11fa4"
      },
      "execution_count": null,
      "outputs": [
        {
          "output_type": "stream",
          "name": "stdout",
          "text": [
            "\u001b[1m189/189\u001b[0m \u001b[32m━━━━━━━━━━━━━━━━━━━━\u001b[0m\u001b[37m\u001b[0m \u001b[1m0s\u001b[0m 2ms/step\n"
          ]
        },
        {
          "output_type": "display_data",
          "data": {
            "text/plain": [
              "<Figure size 800x600 with 2 Axes>"
            ],
            "image/png": "[encoded data removed]"
          },
          "metadata": {}
        }
      ]
    },
    {
      "cell_type": "markdown",
      "source": [
        "# Save Models"
      ],
      "metadata": {
        "id": "gsgfTwIvOHPc"
      }
    },
    {
      "cell_type": "code",
      "source": [
        "simple_model.save('saved_models/simple_model.h5')\n",
        "model_1.save('saved_models/model_1.h5')\n",
        "model_2.save('saved_models/model_2.h5')\n",
        "model_3.save('saved_models/model_3.h5')\n",
        "model_4.save('saved_models/model_4.h5')"
      ],
      "metadata": {
        "id": "z4js2kxNOGAP"
      },
      "execution_count": null,
      "outputs": []
    }
  ]
}